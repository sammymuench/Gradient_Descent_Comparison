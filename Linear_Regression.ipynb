{
 "cells": [
  {
   "cell_type": "code",
   "execution_count": 9,
   "id": "201d8adb",
   "metadata": {},
   "outputs": [],
   "source": [
    "import numpy as np\n",
    "import pandas as pd\n",
    "import matplotlib.pyplot as plt\n",
    "import time"
   ]
  },
  {
   "cell_type": "code",
   "execution_count": 10,
   "id": "82ef5c52",
   "metadata": {
    "scrolled": true
   },
   "outputs": [
    {
     "name": "stdout",
     "output_type": "stream",
     "text": [
      "   Unnamed: 0  Year Drafted  GP   MIN   PTS  FGM   FGA   FG%  3P Made  3PA  \\\n",
      "0           0          2013  70  34.5  16.7  6.1  15.1  40.5      0.8  3.0   \n",
      "1           1          2013  70  32.3  12.8  4.9  12.8  38.0      1.6  4.8   \n",
      "2           2          2013  80  31.1  13.8  4.9  11.7  41.9      0.9  2.8   \n",
      "3           3          2013  82  26.7   8.8  3.1   8.3  37.6      1.2  3.6   \n",
      "4           4          2013  77  24.6   6.8  2.2   5.4  41.4      0.5  1.5   \n",
      "\n",
      "   ...   FT%  OREB  DREB  REB  AST  STL  BLK  TOV   EFF  target  \n",
      "0  ...  70.3   1.4   4.8  6.2  6.3  1.9  0.6  3.5  17.6       1  \n",
      "1  ...  90.3   0.5   2.4  3.0  5.7  0.6  0.1  1.9  12.1       1  \n",
      "2  ...  78.0   0.5   3.6  4.1  4.1  1.6  0.5  3.2  13.2       1  \n",
      "3  ...  80.4   0.6   2.2  2.9  1.0  0.6  0.2  1.2   6.7       1  \n",
      "4  ...  68.3   1.0   3.4  4.4  1.9  0.8  0.8  1.6   9.1       1  \n",
      "\n",
      "[5 rows x 23 columns]\n"
     ]
    }
   ],
   "source": [
    "dat = pd.read_csv('rookie_df.csv')\n",
    "print(dat.head())"
   ]
  },
  {
   "cell_type": "code",
   "execution_count": 11,
   "id": "ebaea6c3",
   "metadata": {},
   "outputs": [],
   "source": [
    "from sklearn.preprocessing import StandardScaler, PolynomialFeatures\n",
    "from sklearn.model_selection import train_test_split"
   ]
  },
  {
   "cell_type": "code",
   "execution_count": 12,
   "id": "1eb80be2",
   "metadata": {},
   "outputs": [],
   "source": [
    "Y = np.array(dat['PTS'])\n",
    "X = np.array(dat[['OREB', 'DREB', 'REB', 'AST', 'STL', 'BLK', 'TOV']])\n"
   ]
  },
  {
   "cell_type": "code",
   "execution_count": 13,
   "id": "383ac9a4",
   "metadata": {},
   "outputs": [],
   "source": [
    "x_train, x_test, y_train, y_test = train_test_split(X, Y, test_size=0.1, random_state=42)\n",
    "\n",
    "scaler = StandardScaler().fit(x_train)\n",
    "\n",
    "x_train_scaled = scaler.transform(x_train)\n",
    "x_test_scaled = scaler.transform(x_test)"
   ]
  },
  {
   "cell_type": "code",
   "execution_count": null,
   "id": "0e30f8b2",
   "metadata": {},
   "outputs": [],
   "source": []
  },
  {
   "cell_type": "code",
   "execution_count": 14,
   "id": "890d0fc9",
   "metadata": {},
   "outputs": [],
   "source": [
    "### Next we will build our probabilistic logistic regression model\n",
    "import time\n",
    "from tqdm import tqdm\n",
    "import math\n",
    "import scipy"
   ]
  },
  {
   "cell_type": "code",
   "execution_count": 15,
   "id": "99178650",
   "metadata": {},
   "outputs": [],
   "source": [
    "class ProbLinReg:\n",
    "    \n",
    "    def __init__(self, optimizer, learning_rate=0.01, max_iter=1000000, decay_rate = True, tol=1e-4, alpha=1, beta=1):\n",
    "        self.optimizer = optimizer if optimizer in ['first_order', 'second_order'] else 'first_order'\n",
    "        self.beta = beta\n",
    "        self.alpha = alpha\n",
    "        self.max_iter = max_iter\n",
    "        self.w = None\n",
    "        self.m_0 = None\n",
    "        self.learning_rate = learning_rate\n",
    "        self.tol = tol\n",
    "        self.loss_history = []\n",
    "        \n",
    "        import time\n",
    "        self.total_iter = 0\n",
    "        self.total_time = 0\n",
    "        print(f'Probabilistic Linear Regression Model Initialized with {self.optimizer} optimizer')\n",
    "    \n",
    "    def fit(self, X, y):\n",
    "        N, M = X.shape\n",
    "        self.w = np.random.randn(M)\n",
    "        self.m_0 = self.w\n",
    "        consecutive_tolerance = 20\n",
    "        no_improvement_count = 0\n",
    "      \n",
    "        if self.optimizer == 'first_order':\n",
    "            start = time.time()\n",
    "            for iter in tqdm(range(self.max_iter), desc='Training Progress'):    \n",
    "                self.total_iter+=1\n",
    "                y_pred = (X @ self.w)\n",
    "                gradient = X.T @ (y_pred - y) + self.alpha * self.w\n",
    "                #self.w -= (self.learning_rate / (1 + 0.01 * self.total_iter * self.learning_rate)) * gradient #decaying learning rate\n",
    "                self.w -= self.learning_rate * gradient #normal learning rate\n",
    "                self.loss_history.append(self.log_posterior(X, y_pred))\n",
    "                \n",
    "                if math.isnan(np.linalg.norm(gradient)):\n",
    "                    print('Summary for first order GD and step size =', self.learning_rate)\n",
    "                    print('Time to converge: nan')\n",
    "                    print('Total Iterations: nan')\n",
    "                    return self\n",
    "                \n",
    "                if (self.total_iter % 100000 == 0):\n",
    "                    print('Score at', self.total_iter, 'iterations:', self.loss_history[-1])\n",
    "                \n",
    "                if iter > 1 and np.abs(self.loss_history[-1] - self.loss_history[-2]) < self.tol:\n",
    "                    no_improvement_count += 1\n",
    "                else:\n",
    "                    no_improvement_count = 0\n",
    "                \n",
    "                if (iter > 1 and no_improvement_count == 20) or self.total_iter == self.max_iter - 1:\n",
    "                    end = time.time()\n",
    "                    self.total_time = end - start\n",
    "                    print('Summary for first order GD and step size =', self.learning_rate)\n",
    "                    print('Time to converge:', self.total_time)\n",
    "                    print('Total Iterations:', self.total_iter)\n",
    "                    return self\n",
    "             \n",
    "        elif self.optimizer == 'second_order':\n",
    "            start = time.time()\n",
    "            for iter in tqdm(range(self.max_iter), desc='Training Progress'):\n",
    "                self.total_iter+=1\n",
    "                y_pred = X @ self.w\n",
    "                gradient = X.T @ (y_pred - y) + self.alpha * self.w\n",
    "                hessian = self.beta * X.T @ X + self.alpha * np.eye(M)\n",
    "                finalGrad = np.linalg.inv(hessian) @ gradient\n",
    "                self.w -= self.learning_rate * finalGrad #normal learning rate\n",
    "                self.loss_history.append(self.log_posterior(X, y_pred))\n",
    "                \n",
    "                if (self.total_iter % 100000 == 0):\n",
    "                    print('Gradient at', self.total_iter, 'iterations:', np.linalg.norm(gradient))\n",
    "                \n",
    "                if math.isnan(np.linalg.norm(gradient)):\n",
    "                    print('Summary for second order GD and step size =', self.learning_rate)\n",
    "                    print('Time to converge: nan')\n",
    "                    print('Total Iterations: nan')\n",
    "                    return self\n",
    "                \n",
    "                if iter > 3 and np.abs(self.loss_history[-1] - self.loss_history[-2]) < self.tol:\n",
    "                    no_improvement_count += 1\n",
    "                else:\n",
    "                    no_improvement_count = 0\n",
    "                \n",
    "                if (iter > 1 and no_improvement_count == 20) or self.total_iter == self.max_iter - 1:\n",
    "                    end = time.time()\n",
    "                    self.total_time = end - start\n",
    "                    print('Summary for second order GD and step size =', self.learning_rate)\n",
    "                    print('Time to converge:', self.total_time)\n",
    "                    print('Total Iterations:', self.total_iter)\n",
    "                    return self\n",
    "        else:\n",
    "            print('Unknown optimizer')\n",
    "        return self\n",
    "    \n",
    "    def predict(self, X):\n",
    "        return X @ self.w\n",
    "        \n",
    "    def log_posterior(self, X, t):\n",
    "        N, M = X.shape\n",
    "        S_0 = (1 / self.alpha) * np.eye(M)\n",
    "        S_N = np.linalg.inv(np.linalg.inv(S_0) + self.beta * (X.T @ X))\n",
    "        m_N = S_N @ (np.linalg.inv(S_0) @ self.m_0 + self.beta * X.T @ t)\n",
    "        epsilon=1e-8\n",
    "        \n",
    "        log_proba = scipy.stats.multivariate_normal.logpdf(self.w, mean=m_N, cov=S_N)\n",
    "        avg_neg_log_proba = (-1 * (np.sum(log_proba) + epsilon)) / (M + epsilon)\n",
    "        return avg_neg_log_proba"
   ]
  },
  {
   "cell_type": "code",
   "execution_count": 16,
   "id": "be772552",
   "metadata": {
    "scrolled": true
   },
   "outputs": [
    {
     "name": "stdout",
     "output_type": "stream",
     "text": [
      "Probabilistic Linear Regression Model Initialized with first_order optimizer\n"
     ]
    },
    {
     "name": "stderr",
     "output_type": "stream",
     "text": [
      "Training Progress:   0%|          | 1209/10000000 [00:00<1:47:27, 1550.73it/s]\n"
     ]
    },
    {
     "name": "stdout",
     "output_type": "stream",
     "text": [
      "Summary for first order GD and step size = 1e-05\n",
      "Time to converge: 0.7769036293029785\n",
      "Total Iterations: 1210\n",
      "Probabilistic Linear Regression Model Initialized with first_order optimizer\n"
     ]
    },
    {
     "name": "stderr",
     "output_type": "stream",
     "text": [
      "Training Progress:   0%|          | 403/10000000 [00:00<3:09:40, 878.69it/s]\n"
     ]
    },
    {
     "name": "stdout",
     "output_type": "stream",
     "text": [
      "Summary for first order GD and step size = 0.0001\n",
      "Time to converge: 0.4631071090698242\n",
      "Total Iterations: 404\n",
      "Probabilistic Linear Regression Model Initialized with first_order optimizer\n"
     ]
    },
    {
     "name": "stderr",
     "output_type": "stream",
     "text": [
      "Training Progress:   0%|          | 94/10000000 [00:00<6:20:33, 437.95it/s] c:\\Users\\Thinkpad\\anaconda3\\lib\\site-packages\\scipy\\stats\\_multivariate.py:467: RuntimeWarning: overflow encountered in square\n",
      "  maha = np.sum(np.square(np.dot(dev, prec_U)), axis=-1)\n",
      "C:\\Users\\Thinkpad\\AppData\\Local\\Temp\\ipykernel_4500\\326463954.py:45: RuntimeWarning: invalid value encountered in double_scalars\n",
      "  if iter > 1 and np.abs(self.loss_history[-1] - self.loss_history[-2]) < self.tol:\n",
      "Training Progress:   0%|          | 407/10000000 [00:00<3:41:59, 750.76it/s] C:\\Users\\Thinkpad\\AppData\\Local\\Temp\\ipykernel_4500\\326463954.py:31: RuntimeWarning: overflow encountered in matmul\n",
      "  gradient = X.T @ (y_pred - y) + self.alpha * self.w\n",
      "C:\\Users\\Thinkpad\\AppData\\Local\\Temp\\ipykernel_4500\\326463954.py:102: RuntimeWarning: invalid value encountered in matmul\n",
      "  m_N = S_N @ (np.linalg.inv(S_0) @ self.m_0 + self.beta * X.T @ t)\n",
      "C:\\Users\\Thinkpad\\AppData\\Local\\Temp\\ipykernel_4500\\326463954.py:102: RuntimeWarning: overflow encountered in matmul\n",
      "  m_N = S_N @ (np.linalg.inv(S_0) @ self.m_0 + self.beta * X.T @ t)\n",
      "C:\\Users\\Thinkpad\\AppData\\Local\\Temp\\ipykernel_4500\\326463954.py:30: RuntimeWarning: invalid value encountered in matmul\n",
      "  y_pred = (X @ self.w)\n",
      "C:\\Users\\Thinkpad\\AppData\\Local\\Temp\\ipykernel_4500\\326463954.py:31: RuntimeWarning: invalid value encountered in matmul\n",
      "  gradient = X.T @ (y_pred - y) + self.alpha * self.w\n",
      "Training Progress:   0%|          | 491/10000000 [00:00<3:54:37, 710.31it/s]\n"
     ]
    },
    {
     "name": "stdout",
     "output_type": "stream",
     "text": [
      "Summary for first order GD and step size = 0.001\n",
      "Time to converge: nan\n",
      "Total Iterations: nan\n",
      "Probabilistic Linear Regression Model Initialized with first_order optimizer\n"
     ]
    },
    {
     "name": "stderr",
     "output_type": "stream",
     "text": [
      "Training Progress:   0%|          | 180/10000000 [00:00<3:22:59, 821.06it/s]\n"
     ]
    },
    {
     "name": "stdout",
     "output_type": "stream",
     "text": [
      "Summary for first order GD and step size = 0.01\n",
      "Time to converge: nan\n",
      "Total Iterations: nan\n",
      "Probabilistic Linear Regression Model Initialized with first_order optimizer\n"
     ]
    },
    {
     "name": "stderr",
     "output_type": "stream",
     "text": [
      "Training Progress:   0%|          | 114/10000000 [00:00<3:17:49, 842.49it/s]\n"
     ]
    },
    {
     "name": "stdout",
     "output_type": "stream",
     "text": [
      "Summary for first order GD and step size = 0.1\n",
      "Time to converge: nan\n",
      "Total Iterations: nan\n",
      "Probabilistic Linear Regression Model Initialized with first_order optimizer\n"
     ]
    },
    {
     "name": "stderr",
     "output_type": "stream",
     "text": [
      "Training Progress:   0%|          | 67/10000000 [00:00<4:15:38, 651.94it/s]C:\\Users\\Thinkpad\\AppData\\Local\\Temp\\ipykernel_4500\\326463954.py:30: RuntimeWarning: overflow encountered in matmul\n",
      "  y_pred = (X @ self.w)\n",
      "Training Progress:   0%|          | 83/10000000 [00:00<4:15:01, 653.53it/s]\n"
     ]
    },
    {
     "name": "stdout",
     "output_type": "stream",
     "text": [
      "Summary for first order GD and step size = 1.0\n",
      "Time to converge: nan\n",
      "Total Iterations: nan\n",
      "Probabilistic Linear Regression Model Initialized with second_order optimizer\n"
     ]
    },
    {
     "name": "stderr",
     "output_type": "stream",
     "text": [
      "Training Progress:   0%|          | 23/1000000000000 [00:00<609942:40:49, 455.42it/s]"
     ]
    },
    {
     "name": "stdout",
     "output_type": "stream",
     "text": [
      "Summary for second order GD and step size = 1e-06\n",
      "Time to converge: 0.058866262435913086\n",
      "Total Iterations: 24\n"
     ]
    },
    {
     "name": "stderr",
     "output_type": "stream",
     "text": [
      "\n"
     ]
    },
    {
     "name": "stdout",
     "output_type": "stream",
     "text": [
      "Probabilistic Linear Regression Model Initialized with second_order optimizer\n"
     ]
    },
    {
     "name": "stderr",
     "output_type": "stream",
     "text": [
      "Training Progress:   0%|          | 23/1000000000000 [00:00<625917:52:37, 443.79it/s]\n"
     ]
    },
    {
     "name": "stdout",
     "output_type": "stream",
     "text": [
      "Summary for second order GD and step size = 1e-06\n",
      "Time to converge: 0.04871654510498047\n",
      "Total Iterations: 24\n",
      "Probabilistic Linear Regression Model Initialized with second_order optimizer\n"
     ]
    },
    {
     "name": "stderr",
     "output_type": "stream",
     "text": [
      "Training Progress:   0%|          | 23/1000000000000 [00:00<485429:26:28, 572.23it/s]"
     ]
    },
    {
     "name": "stdout",
     "output_type": "stream",
     "text": [
      "Summary for second order GD and step size = 1e-06\n",
      "Time to converge: 0.042555809020996094\n",
      "Total Iterations: 24\n",
      "Probabilistic Linear Regression Model Initialized with second_order optimizer"
     ]
    },
    {
     "name": "stderr",
     "output_type": "stream",
     "text": [
      "\n"
     ]
    },
    {
     "name": "stdout",
     "output_type": "stream",
     "text": [
      "\n"
     ]
    },
    {
     "name": "stderr",
     "output_type": "stream",
     "text": [
      "Training Progress:   0%|          | 23/1000000000000 [00:00<666103:30:04, 417.02it/s]\n"
     ]
    },
    {
     "name": "stdout",
     "output_type": "stream",
     "text": [
      "Summary for second order GD and step size = 1e-06\n",
      "Time to converge: 0.04989171028137207\n",
      "Total Iterations: 24\n",
      "Probabilistic Linear Regression Model Initialized with second_order optimizer\n"
     ]
    },
    {
     "name": "stderr",
     "output_type": "stream",
     "text": [
      "Training Progress:   0%|          | 23/1000000000000 [00:00<490756:25:35, 566.02it/s]\n"
     ]
    },
    {
     "name": "stdout",
     "output_type": "stream",
     "text": [
      "Summary for second order GD and step size = 1e-06\n",
      "Time to converge: 0.048874855041503906\n",
      "Total Iterations: 24\n",
      "Probabilistic Linear Regression Model Initialized with second_order optimizer\n"
     ]
    },
    {
     "name": "stderr",
     "output_type": "stream",
     "text": [
      "Training Progress:   0%|          | 0/1000000000000 [00:00<?, ?it/s]"
     ]
    },
    {
     "name": "stdout",
     "output_type": "stream",
     "text": [
      "Summary for second order GD and step size = 1e-05\n",
      "Time to converge: "
     ]
    },
    {
     "name": "stderr",
     "output_type": "stream",
     "text": [
      "Training Progress:   0%|          | 23/1000000000000 [00:00<907067:30:55, 306.24it/s]\n"
     ]
    },
    {
     "name": "stdout",
     "output_type": "stream",
     "text": [
      "0.07610917091369629\n",
      "Total Iterations: 24\n",
      "Probabilistic Linear Regression Model Initialized with second_order optimizer\n"
     ]
    },
    {
     "name": "stderr",
     "output_type": "stream",
     "text": [
      "Training Progress:   0%|          | 23/1000000000000 [00:00<465725:21:18, 596.44it/s]"
     ]
    },
    {
     "name": "stdout",
     "output_type": "stream",
     "text": [
      "Summary for second order GD and step size = 1e-05\n",
      "Time to converge: 0.04604506492614746\n",
      "Total Iterations: 24\n"
     ]
    },
    {
     "name": "stderr",
     "output_type": "stream",
     "text": [
      "\n"
     ]
    },
    {
     "name": "stdout",
     "output_type": "stream",
     "text": [
      "Probabilistic Linear Regression Model Initialized with second_order optimizer\n"
     ]
    },
    {
     "name": "stderr",
     "output_type": "stream",
     "text": [
      "Training Progress:   0%|          | 0/1000000000000 [00:00<?, ?it/s]"
     ]
    },
    {
     "name": "stdout",
     "output_type": "stream",
     "text": [
      "Summary for second order GD and step size = "
     ]
    },
    {
     "name": "stderr",
     "output_type": "stream",
     "text": [
      "Training Progress:   0%|          | 23/1000000000000 [00:00<629283:57:20, 441.42it/s]\n"
     ]
    },
    {
     "name": "stdout",
     "output_type": "stream",
     "text": [
      "1e-05\n",
      "Time to converge: 0.049034833908081055\n",
      "Total Iterations: 24\n",
      "Probabilistic Linear Regression Model Initialized with second_order optimizer\n"
     ]
    },
    {
     "name": "stderr",
     "output_type": "stream",
     "text": [
      "Training Progress:   0%|          | 6/1000000000000 [00:00<6660543:06:22, 41.70it/s]"
     ]
    },
    {
     "name": "stdout",
     "output_type": "stream",
     "text": [
      "Summary for second order GD and step size ="
     ]
    },
    {
     "name": "stderr",
     "output_type": "stream",
     "text": [
      "Training Progress:   0%|          | 23/1000000000000 [00:00<2799840:21:53, 99.21it/s]\n"
     ]
    },
    {
     "name": "stdout",
     "output_type": "stream",
     "text": [
      " 1e-05\n",
      "Time to converge: 0.19042754173278809\n",
      "Total Iterations: 24\n",
      "Probabilistic Linear Regression Model Initialized with second_order optimizer\n"
     ]
    },
    {
     "name": "stderr",
     "output_type": "stream",
     "text": [
      "Training Progress:   0%|          | 23/1000000000000 [00:00<581392:55:09, 477.78it/s]\n"
     ]
    },
    {
     "name": "stdout",
     "output_type": "stream",
     "text": [
      "Summary for second order GD and step size = 1e-05\n",
      "Time to converge: 0.05112743377685547\n",
      "Total Iterations: 24\n",
      "Probabilistic Linear Regression Model Initialized with second_order optimizer\n"
     ]
    },
    {
     "name": "stderr",
     "output_type": "stream",
     "text": [
      "Training Progress:   0%|          | 23/1000000000000 [00:00<605704:07:40, 458.60it/s]\n"
     ]
    },
    {
     "name": "stdout",
     "output_type": "stream",
     "text": [
      "Summary for second order GD and step size = 0.0001\n",
      "Time to converge: 0.05160927772521973\n",
      "Total Iterations: 24\n",
      "Probabilistic Linear Regression Model Initialized with second_order optimizer\n"
     ]
    },
    {
     "name": "stderr",
     "output_type": "stream",
     "text": [
      "Training Progress:   0%|          | 23/1000000000000 [00:00<542814:01:44, 511.74it/s]\n"
     ]
    },
    {
     "name": "stdout",
     "output_type": "stream",
     "text": [
      "Summary for second order GD and step size = 0.0001\n",
      "Time to converge: 0.045979976654052734\n",
      "Total Iterations: 24\n",
      "Probabilistic Linear Regression Model Initialized with second_order optimizer\n"
     ]
    },
    {
     "name": "stderr",
     "output_type": "stream",
     "text": [
      "Training Progress:   0%|          | 0/1000000000000 [00:00<?, ?it/s]"
     ]
    },
    {
     "name": "stdout",
     "output_type": "stream",
     "text": [
      "Summary for second order GD and step size ="
     ]
    },
    {
     "name": "stderr",
     "output_type": "stream",
     "text": [
      "Training Progress:   0%|          | 23/1000000000000 [00:00<777641:55:55, 357.21it/s]\n"
     ]
    },
    {
     "name": "stdout",
     "output_type": "stream",
     "text": [
      " 0.0001\n",
      "Time to converge: 0.06939482688903809\n",
      "Total Iterations: 24\n",
      "Probabilistic Linear Regression Model Initialized with second_order optimizer\n"
     ]
    },
    {
     "name": "stderr",
     "output_type": "stream",
     "text": [
      "Training Progress:   0%|          | 23/1000000000000 [00:00<480954:46:25, 577.55it/s]\n"
     ]
    },
    {
     "name": "stdout",
     "output_type": "stream",
     "text": [
      "Summary for second order GD and step size = 0.0001\n",
      "Time to converge: 0.042815208435058594\n",
      "Total Iterations: 24\n",
      "Probabilistic Linear Regression Model Initialized with second_order optimizer\n"
     ]
    },
    {
     "name": "stderr",
     "output_type": "stream",
     "text": [
      "Training Progress:   0%|          | 23/1000000000000 [00:00<584252:12:52, 475.44it/s]"
     ]
    },
    {
     "name": "stdout",
     "output_type": "stream",
     "text": [
      "Summary for second order GD and step size = 0.0001\n",
      "Time to converge: 0.05328869819641113\n",
      "Total Iterations: 24\n"
     ]
    },
    {
     "name": "stderr",
     "output_type": "stream",
     "text": [
      "\n"
     ]
    },
    {
     "name": "stdout",
     "output_type": "stream",
     "text": [
      "Probabilistic Linear Regression Model Initialized with second_order optimizer\n"
     ]
    },
    {
     "name": "stderr",
     "output_type": "stream",
     "text": [
      "Training Progress:   0%|          | 23/1000000000000 [00:00<439343:49:15, 632.26it/s]\n"
     ]
    },
    {
     "name": "stdout",
     "output_type": "stream",
     "text": [
      "Summary for second order GD and step size = 0.001\n",
      "Time to converge: 0.04390764236450195\n",
      "Total Iterations: 24\n",
      "Probabilistic Linear Regression Model Initialized with second_order optimizer\n"
     ]
    },
    {
     "name": "stderr",
     "output_type": "stream",
     "text": [
      "Training Progress:   0%|          | 0/1000000000000 [00:00<?, ?it/s]"
     ]
    },
    {
     "name": "stdout",
     "output_type": "stream",
     "text": [
      "Summary for second order GD and step size ="
     ]
    },
    {
     "name": "stderr",
     "output_type": "stream",
     "text": [
      "Training Progress:   0%|          | 23/1000000000000 [00:00<540219:38:35, 514.19it/s]\n"
     ]
    },
    {
     "name": "stdout",
     "output_type": "stream",
     "text": [
      " 0.001\n",
      "Time to converge: 0.05172610282897949\n",
      "Total Iterations: 24\n",
      "Probabilistic Linear Regression Model Initialized with second_order optimizer\n"
     ]
    },
    {
     "name": "stderr",
     "output_type": "stream",
     "text": [
      "Training Progress:   0%|          | 23/1000000000000 [00:00<589723:10:20, 471.03it/s]\n"
     ]
    },
    {
     "name": "stdout",
     "output_type": "stream",
     "text": [
      "Summary for second order GD and step size = 0.001\n",
      "Time to converge: 0.05704140663146973\n",
      "Total Iterations: 24\n",
      "Probabilistic Linear Regression Model Initialized with second_order optimizer\n"
     ]
    },
    {
     "name": "stderr",
     "output_type": "stream",
     "text": [
      "Training Progress:   0%|          | 23/1000000000000 [00:00<609830:22:54, 455.50it/s]\n"
     ]
    },
    {
     "name": "stdout",
     "output_type": "stream",
     "text": [
      "Summary for second order GD and step size = 0.001\n",
      "Time to converge: 0.06648087501525879\n",
      "Total Iterations: 24\n",
      "Probabilistic Linear Regression Model Initialized with second_order optimizer\n"
     ]
    },
    {
     "name": "stderr",
     "output_type": "stream",
     "text": [
      "Training Progress:   0%|          | 0/1000000000000 [00:00<?, ?it/s]"
     ]
    },
    {
     "name": "stdout",
     "output_type": "stream",
     "text": [
      "Summary for second order GD and step size = 0.001\n",
      "Time to converge: 0.06424617767333984\n",
      "Total Iterations: 24"
     ]
    },
    {
     "name": "stderr",
     "output_type": "stream",
     "text": [
      "Training Progress:   0%|          | 23/1000000000000 [00:00<578182:19:51, 480.43it/s]\n"
     ]
    },
    {
     "name": "stdout",
     "output_type": "stream",
     "text": [
      "\n",
      "Probabilistic Linear Regression Model Initialized with second_order optimizer\n"
     ]
    },
    {
     "name": "stderr",
     "output_type": "stream",
     "text": [
      "Training Progress:   0%|          | 325/1000000000000 [00:00<526380:07:52, 527.71it/s]\n"
     ]
    },
    {
     "name": "stdout",
     "output_type": "stream",
     "text": [
      "Summary for second order GD and step size = 0.01\n",
      "Time to converge: 0.6120896339416504\n",
      "Total Iterations: 326\n",
      "Probabilistic Linear Regression Model Initialized with second_order optimizer\n"
     ]
    },
    {
     "name": "stderr",
     "output_type": "stream",
     "text": [
      "Training Progress:   0%|          | 274/1000000000000 [00:00<355095:45:31, 782.26it/s]\n"
     ]
    },
    {
     "name": "stdout",
     "output_type": "stream",
     "text": [
      "Summary for second order GD and step size = 0.01\n",
      "Time to converge: 0.35206079483032227\n",
      "Total Iterations: 275\n",
      "Probabilistic Linear Regression Model Initialized with second_order optimizer\n"
     ]
    },
    {
     "name": "stderr",
     "output_type": "stream",
     "text": [
      "Training Progress:   0%|          | 145/1000000000000 [00:00<390249:39:01, 711.80it/s]\n"
     ]
    },
    {
     "name": "stdout",
     "output_type": "stream",
     "text": [
      "Summary for second order GD and step size = 0.01\n",
      "Time to converge: 0.21382474899291992\n",
      "Total Iterations: 146\n",
      "Probabilistic Linear Regression Model Initialized with second_order optimizer\n"
     ]
    },
    {
     "name": "stderr",
     "output_type": "stream",
     "text": [
      "Training Progress:   0%|          | 23/1000000000000 [00:00<558964:52:19, 496.95it/s]\n"
     ]
    },
    {
     "name": "stdout",
     "output_type": "stream",
     "text": [
      "Summary for second order GD and step size = 0.01\n",
      "Time to converge: 0.056952476501464844\n",
      "Total Iterations: 24\n",
      "Probabilistic Linear Regression Model Initialized with second_order optimizer\n"
     ]
    },
    {
     "name": "stderr",
     "output_type": "stream",
     "text": [
      "Training Progress:   0%|          | 23/1000000000000 [00:00<712785:10:04, 389.71it/s]"
     ]
    },
    {
     "name": "stdout",
     "output_type": "stream",
     "text": [
      "Summary for second order GD and step size = 0.01\n",
      "Time to converge: 0.05810856819152832\n",
      "Total Iterations: 24\n"
     ]
    },
    {
     "name": "stderr",
     "output_type": "stream",
     "text": [
      "\n"
     ]
    }
   ],
   "source": [
    "import scipy\n",
    "\n",
    "learn_rate_iters = {}\n",
    "times_firstOrd = {}\n",
    "final_scores_firstOrd = {}\n",
    "learn_rates = np.logspace(-5.0, 0.0, num=6)\n",
    "\n",
    "for lr in learn_rates:\n",
    "    test_model = ProbLinReg('first_order', learning_rate=lr, max_iter=10000000, tol=1e-8)\n",
    "    test_model.fit(x_train_scaled, y_train)\n",
    "    learn_rate_iters[lr] = test_model.total_iter\n",
    "    times_firstOrd[lr] = test_model.total_time\n",
    "    final_scores_firstOrd[lr] = test_model.log_posterior(x_test_scaled, y_test)\n",
    "    "
   ]
  },
  {
   "cell_type": "code",
   "execution_count": 18,
   "id": "a835c753",
   "metadata": {},
   "outputs": [
    {
     "name": "stdout",
     "output_type": "stream",
     "text": [
      "Probabilistic Linear Regression Model Initialized with second_order optimizer\n"
     ]
    },
    {
     "name": "stderr",
     "output_type": "stream",
     "text": [
      "Training Progress:   0%|          | 23/100000000 [00:00<80:13:01, 346.28it/s]\n"
     ]
    },
    {
     "name": "stdout",
     "output_type": "stream",
     "text": [
      "Summary for second order GD and step size = 1e-05\n",
      "Time to converge: 0.07253623008728027\n",
      "Total Iterations: 24\n",
      "Probabilistic Linear Regression Model Initialized with second_order optimizer\n"
     ]
    },
    {
     "name": "stderr",
     "output_type": "stream",
     "text": [
      "Training Progress:   0%|          | 23/100000000 [00:00<279:49:34, 99.27it/s]\n"
     ]
    },
    {
     "name": "stdout",
     "output_type": "stream",
     "text": [
      "Summary for second order GD and step size = 0.0001\n",
      "Time to converge: 0.23009395599365234\n",
      "Total Iterations: 24\n",
      "Probabilistic Linear Regression Model Initialized with second_order optimizer\n"
     ]
    },
    {
     "name": "stderr",
     "output_type": "stream",
     "text": [
      "Training Progress:   0%|          | 23/100000000 [00:00<102:31:28, 270.94it/s]\n"
     ]
    },
    {
     "name": "stdout",
     "output_type": "stream",
     "text": [
      "Summary for second order GD and step size = 0.001\n",
      "Time to converge: 0.09394192695617676\n",
      "Total Iterations: 24\n",
      "Probabilistic Linear Regression Model Initialized with second_order optimizer\n"
     ]
    },
    {
     "name": "stderr",
     "output_type": "stream",
     "text": [
      "Training Progress:   0%|          | 237/100000000 [00:00<29:23:39, 945.01it/s]\n"
     ]
    },
    {
     "name": "stdout",
     "output_type": "stream",
     "text": [
      "Summary for second order GD and step size = 0.01\n",
      "Time to converge: 0.2520620822906494\n",
      "Total Iterations: 238\n",
      "Probabilistic Linear Regression Model Initialized with second_order optimizer\n"
     ]
    },
    {
     "name": "stderr",
     "output_type": "stream",
     "text": [
      "Training Progress:   0%|          | 68/100000000 [00:00<29:58:01, 926.95it/s]\n"
     ]
    },
    {
     "name": "stdout",
     "output_type": "stream",
     "text": [
      "Summary for second order GD and step size = 0.1\n",
      "Time to converge: 0.0678558349609375\n",
      "Total Iterations: 69\n",
      "Probabilistic Linear Regression Model Initialized with second_order optimizer\n"
     ]
    },
    {
     "name": "stderr",
     "output_type": "stream",
     "text": [
      "Training Progress:   0%|          | 23/100000000 [00:00<30:42:16, 904.68it/s]"
     ]
    },
    {
     "name": "stdout",
     "output_type": "stream",
     "text": [
      "Summary for second order GD and step size = 1.0\n",
      "Time to converge: 0.027433156967163086\n",
      "Total Iterations: 24\n"
     ]
    },
    {
     "name": "stderr",
     "output_type": "stream",
     "text": [
      "\n"
     ]
    }
   ],
   "source": [
    "#SECOND ORDER TEST\n",
    "\n",
    "learn_rate_iters_2 = {}\n",
    "times_secondOrd = {}\n",
    "final_scores_secondOrd = {}\n",
    "learn_rates = np.logspace(-5.0, 0.0, num=6)\n",
    "\n",
    "for lr in learn_rates:\n",
    "    test_model = ProbLinReg('second_order', learning_rate=lr, max_iter=100000000, tol=1e-4)\n",
    "    test_model.fit(x_train_scaled, y_train)\n",
    "    learn_rate_iters[lr] = test_model.total_iter\n",
    "    times_secondOrd[lr] = test_model.total_time\n",
    "    final_scores_secondOrd[lr] = test_model.log_posterior(x_test_scaled, y_test)"
   ]
  }
 ],
 "metadata": {
  "kernelspec": {
   "display_name": "Python 3 (ipykernel)",
   "language": "python",
   "name": "python3"
  },
  "language_info": {
   "codemirror_mode": {
    "name": "ipython",
    "version": 3
   },
   "file_extension": ".py",
   "mimetype": "text/x-python",
   "name": "python",
   "nbconvert_exporter": "python",
   "pygments_lexer": "ipython3",
   "version": "3.9.12"
  }
 },
 "nbformat": 4,
 "nbformat_minor": 5
}
